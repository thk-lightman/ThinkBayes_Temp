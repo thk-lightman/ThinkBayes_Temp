{
 "cells": [
  {
   "cell_type": "code",
   "execution_count": null,
   "metadata": {},
   "outputs": [],
   "source": [
    "import calendar\n",
    "import os\n",
    "\n",
    "import arviz as az\n",
    "import matplotlib.dates as mdates\n",
    "import matplotlib.pyplot as plt\n",
    "import numpy as np\n",
    "import pandas as pd\n",
    "import pymc as pm\n",
    "import pytensor.tensor as pt\n",
    "import seaborn as sns\n",
    "import xarray as xr"
   ]
  }
 ],
 "metadata": {
  "kernelspec": {
   "display_name": "Bayesian_Inference_PyMC",
   "language": "python",
   "name": "bayesian-inference"
  },
  "language_info": {
   "name": "python",
   "version": "3.9.13"
  }
 },
 "nbformat": 4,
 "nbformat_minor": 2
}
