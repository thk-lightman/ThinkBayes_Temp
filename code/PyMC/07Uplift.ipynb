{
 "cells": [
  {
   "cell_type": "code",
   "execution_count": null,
   "metadata": {},
   "outputs": [],
   "source": [
    "import pymc as pm\n",
    "import numpy as np\n",
    "\n",
    "# Sample data generation: subgroup (0: low, 1: high), group (0: control, 1: treatment), response (0: no, 1: yes)\n",
    "data = np.array([\n",
    "    [0, 0, 0], [0, 0, 1], [0, 1, 0], [0, 1, 1],\n",
    "    [1, 0, 0], [1, 0, 1], [1, 1, 0], [1, 1, 1]\n",
    "])\n",
    "\n",
    "with pm.Model() as model:\n",
    "    # Priors\n",
    "    alpha = pm.Normal('alpha', mu=0, sigma=10, shape=2)  # Different intercepts for subgroups\n",
    "    beta = pm.Normal('beta', mu=0, sigma=10, shape=2)  # Different slopes for treatment effect in subgroups\n",
    "    \n",
    "    # Model\n",
    "    logits = alpha[data[:, 0]] + beta[data[:, 0]] * data[:, 1]\n",
    "    response = pm.Bernoulli('response', pm.math.sigmoid(logits), observed=data[:, 2])\n",
    "    \n",
    "    # Posterior sampling\n",
    "    trace = pm.sample(3000)\n",
    "\n",
    "# Posterior analysis\n",
    "pm.plot_posterior(trace, var_names=['alpha', 'beta'])\n"
   ]
  },
  {
   "cell_type": "code",
   "execution_count": null,
   "metadata": {},
   "outputs": [],
   "source": []
  }
 ],
 "metadata": {
  "language_info": {
   "name": "python"
  }
 },
 "nbformat": 4,
 "nbformat_minor": 2
}
